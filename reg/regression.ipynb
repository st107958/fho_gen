{
 "cells": [
  {
   "cell_type": "code",
   "execution_count": null,
   "id": "initial_id",
   "metadata": {
    "collapsed": true
   },
   "outputs": [],
   "source": [
    "import numpy as np\n",
    "from scipy.optimize import curve_fit\n",
    "\n",
    "# Ваши данные: температуры T и соответствующие k_{10}^0(T) из FHOFR\n",
    "T_data = np.array([...])  # Температуры в Кельвинах\n",
    "k10_data = np.array([...])  # Экспериментальные значения k_{10}^0(T)\n",
    "\n",
    "# Модель: k_{10}^0(T) = A * exp(B * T^{-1/3})\n",
    "def model(T, A, B):\n",
    "    return A * np.exp(B * T**(-1/3))\n",
    "\n",
    "# Подгонка параметров A, B\n",
    "params, covariance = curve_fit(model, T_data, k10_data)\n",
    "A, B = params\n",
    "print(f\"A = {A:.2e}, B = {B:.2f}\")"
   ]
  }
 ],
 "metadata": {
  "kernelspec": {
   "display_name": "Python 3",
   "language": "python",
   "name": "python3"
  },
  "language_info": {
   "codemirror_mode": {
    "name": "ipython",
    "version": 2
   },
   "file_extension": ".py",
   "mimetype": "text/x-python",
   "name": "python",
   "nbconvert_exporter": "python",
   "pygments_lexer": "ipython2",
   "version": "2.7.6"
  }
 },
 "nbformat": 4,
 "nbformat_minor": 5
}
