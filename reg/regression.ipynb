{
 "cells": [
  {
   "metadata": {
    "ExecuteTime": {
     "end_time": "2025-05-22T16:15:51.152658Z",
     "start_time": "2025-05-22T16:15:51.141656Z"
    }
   },
   "cell_type": "code",
   "source": [
    "import numpy as np\n",
    "import pandas as pd\n",
    "\n",
    "from scipy.optimize import curve_fit\n",
    "from scipy.optimize import minimize\n",
    "\n",
    "import matplotlib.pyplot as plt"
   ],
   "id": "5ae88099621dc7c8",
   "outputs": [],
   "execution_count": 61
  },
  {
   "metadata": {
    "ExecuteTime": {
     "end_time": "2025-05-22T18:33:55.735404Z",
     "start_time": "2025-05-22T18:33:55.728403Z"
    }
   },
   "cell_type": "code",
   "source": [
    "T_data = np.loadtxt('T.csv')\n",
    "k_data = np.loadtxt('K.csv')"
   ],
   "id": "b1ba15da96bb374a",
   "outputs": [],
   "execution_count": 212
  },
  {
   "metadata": {
    "ExecuteTime": {
     "end_time": "2025-05-22T18:16:10.387412Z",
     "start_time": "2025-05-22T18:16:10.370408Z"
    }
   },
   "cell_type": "code",
   "source": [
    "def k_model(T, A, B):\n",
    "    return A * np.exp(B * T**(-1/3))\n",
    "\n",
    "# Функция MAPE\n",
    "def mape_loss(params):\n",
    "    A, B = params\n",
    "    k_pred = k_model(T_data, A, B)\n",
    "    return np.mean(np.abs((k_data - k_pred) / k_data)) * 100  # В процентах\n",
    "\n",
    "# Оптимизация\n",
    "result = minimize(mape_loss, x0=[1e-14, 100], method='Nelder-Mead')  # Nelder-Mead устойчив к шумам\n",
    "A_fit, B_fit = result.x\n",
    "\n",
    "print(f\"Оптимальные параметры: A = {A_fit:.3e}, B = {B_fit:.2f}\")\n",
    "print(f\"MAPE = {mape_loss([A_fit, B_fit]):.2f}%\")"
   ],
   "id": "559f8db732095acf",
   "outputs": [
    {
     "name": "stdout",
     "output_type": "stream",
     "text": [
      "Оптимальные параметры: A = 1.401e-11, B = -47.85\n",
      "MAPE = 23.52%\n"
     ]
    }
   ],
   "execution_count": 144
  },
  {
   "metadata": {
    "ExecuteTime": {
     "end_time": "2025-05-22T18:04:27.756969Z",
     "start_time": "2025-05-22T18:04:27.744966Z"
    }
   },
   "cell_type": "code",
   "source": [
    "def k_model(T, A, B):\n",
    "    return A * np.exp(B * T**(-1/3))\n",
    "\n",
    "params, covariance = curve_fit(k_model, T_data, k_data, p0=[1e-14, 100])  \n",
    "A_fit, B_fit = params\n",
    "\n",
    "print(f\"Подобранные параметры: A = {A_fit:.3e}, B = {B_fit:.3f}\")"
   ],
   "id": "4715957f23b72e96",
   "outputs": [
    {
     "name": "stdout",
     "output_type": "stream",
     "text": [
      "Подобранные параметры: A = 2.154e-11, B = -53.581\n"
     ]
    }
   ],
   "execution_count": 107
  },
  {
   "metadata": {
    "ExecuteTime": {
     "end_time": "2025-05-22T18:16:19.791532Z",
     "start_time": "2025-05-22T18:16:19.772527Z"
    }
   },
   "cell_type": "code",
   "source": [
    "def k_model(T, A, B, C):\n",
    "    return A * np.exp(B * T**(-1/3) + C * T**(-1/2))\n",
    "\n",
    "params, _ = curve_fit(k_model, T_data, k_data, p0=[1.0, -10.0, 0.01])\n",
    "A_fit, B_fit, C_fit = params\n",
    "\n",
    "print(f\"Подобранные параметры: A = {A_fit:.3e}, B = {B_fit:.3f}, C = {C_fit:.3f}\")"
   ],
   "id": "42440bc3cf38dd72",
   "outputs": [
    {
     "name": "stdout",
     "output_type": "stream",
     "text": [
      "Подобранные параметры: A = 4.428e-09, B = -261.356, C = 490.657\n"
     ]
    }
   ],
   "execution_count": 145
  },
  {
   "metadata": {
    "ExecuteTime": {
     "end_time": "2025-05-22T18:27:15.111026Z",
     "start_time": "2025-05-22T18:27:15.096024Z"
    }
   },
   "cell_type": "code",
   "source": [
    "def k_model(T, A, B, C):\n",
    "    return A * T**(-1/3) * np.exp(B * T**(-1/3) + C * T**(-1/2))\n",
    "\n",
    "params, _ = curve_fit(k_model, T_data, k_data, p0=[1.0, -10.0, 0.01])\n",
    "A_fit, B_fit, C_fit = params\n",
    "\n",
    "print(f\"Подобранные параметры: A = {A_fit:.3e}, B = {B_fit:.3f}, C = {C_fit:.3f}\")"
   ],
   "id": "9137dafc560f5c03",
   "outputs": [
    {
     "name": "stdout",
     "output_type": "stream",
     "text": [
      "Подобранные параметры: A = 4.752e-03, B = -1274.887, C = 3743.623\n"
     ]
    }
   ],
   "execution_count": 183
  },
  {
   "metadata": {
    "ExecuteTime": {
     "end_time": "2025-05-22T18:34:16.833447Z",
     "start_time": "2025-05-22T18:34:16.806712Z"
    }
   },
   "cell_type": "code",
   "source": [
    "def k_model(T, A, B, C, D, n):\n",
    "    return A * T**(-1/3) * np.exp(B * T**(-1/3) + C * T**(-1/2)) \n",
    "\n",
    "params, _ = curve_fit(k_model, T_data, k_data, p0=[1.0, -10.0, 0.01, 0.01, 10.0])\n",
    "A_fit, B_fit, C_fit, D_fit, n_fit= params\n",
    "\n",
    "print(f\"Подобранные параметры: A = {A_fit:.3e}, B = {B_fit:.3f}, C = {C_fit:.3f}, D = {D_fit:.3f}, D = {n_fit:.3f}\")"
   ],
   "id": "2d32192296918f55",
   "outputs": [
    {
     "name": "stdout",
     "output_type": "stream",
     "text": [
      "Подобранные параметры: A = -6.102e-09, B = -31.801, C = 45.199, D = 0.000, D = 30076702.186\n"
     ]
    }
   ],
   "execution_count": 214
  },
  {
   "metadata": {
    "ExecuteTime": {
     "end_time": "2025-05-22T17:33:10.347758Z",
     "start_time": "2025-05-22T17:33:10.330753Z"
    }
   },
   "cell_type": "code",
   "source": [
    "def k_model(T, A, N):\n",
    "    return A * T ** N * np.exp(-A/T)\n",
    "\n",
    "params, _ = curve_fit(k_model, T_data, k_data, p0=[1.0, 1.0])\n",
    "A_fit, N_fit = params\n",
    "\n",
    "print(f\"Подобранные параметры: A = {A_fit:.3e}, B = {N_fit:.3f}\")"
   ],
   "id": "b56419ac1d35ba3f",
   "outputs": [
    {
     "name": "stdout",
     "output_type": "stream",
     "text": [
      "Подобранные параметры: A = 3.286e-18, B = 1.499\n"
     ]
    }
   ],
   "execution_count": 101
  },
  {
   "metadata": {},
   "cell_type": "markdown",
   "source": "",
   "id": "1242d353f7fca8f"
  },
  {
   "metadata": {
    "ExecuteTime": {
     "end_time": "2025-05-22T18:31:36.604743Z",
     "start_time": "2025-05-22T18:31:36.347951Z"
    }
   },
   "cell_type": "code",
   "source": [
    "# k_pred = k_model(T_data, A_fit, B_fit)\n",
    "# k_pred = k_model(T_data, A_fit, B_fit, C_fit)\n",
    "k_pred = k_model(T_data, A_fit, B_fit, C_fit, D_fit)\n",
    "#k_pred = k_model(T_data, A_fit, N_fit)\n",
    "\n",
    "fig, ax = plt.subplots()\n",
    "\n",
    "ax.scatter(T_data, k_data, label='Расчет', color='red')\n",
    "# ax.plot(T_data, k_pred, label=f'Модель: $A \\exp(B T^{{-1/3}})$\\n$A$={A_fit:.2e}, $B$={B_fit:.2f}', linestyle='--')\n",
    "ax.plot(T_data, k_pred, label=f'Модель', linestyle='--')\n",
    "plt.xlabel('Температура (K)')\n",
    "plt.ylabel('$k_{10}^{01}(T)$ (cm³/s)')\n",
    "\n",
    "ax.set_yscale('log')\n",
    "plt.legend()\n",
    "plt.grid(True)\n",
    "plt.show()\n",
    "\n",
    "mse = np.mean((k_data - k_pred)**2)\n",
    "print(f\"MSE = {mse:.3e}\")"
   ],
   "id": "96dad773d7531a14",
   "outputs": [
    {
     "data": {
      "text/plain": [
       "<Figure size 640x480 with 1 Axes>"
      ],
      "image/png": "[encoded data removed]"
     },
     "metadata": {},
     "output_type": "display_data"
    },
    {
     "name": "stdout",
     "output_type": "stream",
     "text": [
      "MSE = 3.221e+229\n"
     ]
    }
   ],
   "execution_count": 199
  },
  {
   "metadata": {
    "ExecuteTime": {
     "end_time": "2025-05-22T18:31:46.367046Z",
     "start_time": "2025-05-22T18:31:46.351043Z"
    }
   },
   "cell_type": "code",
   "source": [
    "def k_10_01(T):\n",
    "    return A_fit * np.exp(B_fit * T**(-1/3))\n",
    "\n",
    "def k_i(T, i, k):\n",
    "    return k_10_01(T) * (i + 1) * (k + 1)"
   ],
   "id": "d6c4a2c55e8e9aad",
   "outputs": [],
   "execution_count": 200
  },
  {
   "metadata": {
    "ExecuteTime": {
     "end_time": "2025-05-22T18:31:46.541086Z",
     "start_time": "2025-05-22T18:31:46.528083Z"
    }
   },
   "cell_type": "code",
   "source": [
    "n_points = 24\n",
    "T_min, T_max = 5000, 100000  \n",
    "T_data = np.linspace(T_min**(-1/3), T_max**(-1/3), n_points) ** (-3)\n",
    "\n",
    "K_data = []\n",
    "for i in range(len(T_data)):\n",
    "    k = k_10_01(T_data[i])\n",
    "    K_data.append(k)\n",
    "    print('k:', k)\n",
    "\n",
    "df = pd.DataFrame({'T': T_data})\n",
    "df.to_csv('T1.csv', index=False, header=False)\n",
    "\n",
    "df = pd.DataFrame({'K': K_data})\n",
    "df.to_csv('K1.csv', index=False, header=False)"
   ],
   "id": "cf4f3b54712a145e",
   "outputs": [
    {
     "name": "stdout",
     "output_type": "stream",
     "text": [
      "k: -3.419141111668018e-14\n",
      "k: -3.474492729851435e-14\n",
      "k: -3.530740421503441e-14\n",
      "k: -3.5878986929327466e-14\n",
      "k: -3.645982285287059e-14\n",
      "k: -3.7050061783548305e-14\n",
      "k: -3.7649855944285515e-14\n",
      "k: -3.825936002230589e-14\n",
      "k: -3.8878731209025776e-14\n",
      "k: -3.950812924059398e-14\n",
      "k: -4.01477164390877e-14\n",
      "k: -4.0797657754375617e-14\n",
      "k: -4.145812080665844e-14\n",
      "k: -4.21292759296983e-14\n",
      "k: -4.281129621474786e-14\n",
      "k: -4.350435755519072e-14\n",
      "k: -4.4208638691904335e-14\n",
      "k: -4.4924321259357414e-14\n",
      "k: -4.565158983245356e-14\n",
      "k: -4.6390631974133173e-14\n",
      "k: -4.7141638283746114e-14\n",
      "k: -4.7904802446207284e-14\n",
      "k: -4.868032128194815e-14\n",
      "k: -4.946839479767679e-14\n"
     ]
    }
   ],
   "execution_count": 201
  },
  {
   "metadata": {
    "ExecuteTime": {
     "end_time": "2025-05-22T18:31:52.859257Z",
     "start_time": "2025-05-22T18:31:52.624205Z"
    }
   },
   "cell_type": "code",
   "source": [
    "fig, ax = plt.subplots()\n",
    "\n",
    "data_1 = pd.read_csv('rel_comp.csv', sep=';', header=None)\n",
    "comp, = ax.plot(data_1[0]**(-3), data_1[1], '-s')\n",
    "# comp, = ax.plot(data_1[0], data_1[1], '-s')\n",
    "comp.set_label('comp_rel')\n",
    "\n",
    "data_2 = pd.read_csv('FHO_FR1.csv', sep=' ', header=None)\n",
    "# fho, = ax.plot(data_2[0]**(-1/3), data_2[1], '-s')\n",
    "fho, = ax.plot(data_2[0], data_2[1], '-s')\n",
    "fho.set_label('my_rel')\n",
    "\n",
    "# plt.xlabel('T^(-1/3)')\n",
    "# plt.xlabel('T')\n",
    "plt.ylabel(r'$\\mathrm{ p \\, \\tau \\quad [atm \\cdot s]}$')\n",
    "ax.set_yscale('log')\n",
    "plt.legend()\n",
    "plt.grid(True)\n",
    "plt.show()"
   ],
   "id": "a2c79471f2c73680",
   "outputs": [
    {
     "data": {
      "text/plain": [
       "<Figure size 640x480 with 1 Axes>"
      ],
      "image/png": "[encoded data removed]"
     },
     "metadata": {},
     "output_type": "display_data"
    }
   ],
   "execution_count": 202
  },
  {
   "metadata": {
    "ExecuteTime": {
     "end_time": "2025-05-22T18:23:16.578013Z",
     "start_time": "2025-05-22T18:23:16.565010Z"
    }
   },
   "cell_type": "code",
   "source": [
    "data_comp = pd.read_csv('fho10_3000.csv', sep=';', header=None)\n",
    "\n",
    "temperature = 3000\n",
    "data_reg = []\n",
    "ii = []\n",
    "for i in range(0, 40):\n",
    "    ii.append(i)\n",
    "    data_reg.append(k_i(temperature, 0, i))"
   ],
   "id": "7964beed2298fa96",
   "outputs": [],
   "execution_count": 166
  },
  {
   "metadata": {
    "ExecuteTime": {
     "end_time": "2025-05-22T18:23:17.196399Z",
     "start_time": "2025-05-22T18:23:16.907844Z"
    }
   },
   "cell_type": "code",
   "source": [
    "fig, ax = plt.subplots()\n",
    "\n",
    "ax.plot(data_comp[0], data_comp[1], label='Статья', color='red')\n",
    "ax.plot(ii, data_reg, label=f'Модель', linestyle='--')\n",
    "plt.xlabel('i')\n",
    "plt.ylabel('$k$ (cm³/s)')\n",
    "ax.set_yscale('log')\n",
    "plt.legend()\n",
    "plt.grid(True)\n",
    "plt.show()"
   ],
   "id": "7e78903fbd62728a",
   "outputs": [
    {
     "data": {
      "text/plain": [
       "<Figure size 640x480 with 1 Axes>"
      ],
      "image/png": "[encoded data removed]"
     },
     "metadata": {},
     "output_type": "display_data"
    }
   ],
   "execution_count": 167
  },
  {
   "metadata": {},
   "cell_type": "code",
   "outputs": [],
   "execution_count": null,
   "source": "",
   "id": "77ec952c0a07364f"
  }
 ],
 "metadata": {
  "kernelspec": {
   "display_name": "Python 3",
   "language": "python",
   "name": "python3"
  },
  "language_info": {
   "codemirror_mode": {
    "name": "ipython",
    "version": 2
   },
   "file_extension": ".py",
   "mimetype": "text/x-python",
   "name": "python",
   "nbconvert_exporter": "python",
   "pygments_lexer": "ipython2",
   "version": "2.7.6"
  }
 },
 "nbformat": 4,
 "nbformat_minor": 5
}
